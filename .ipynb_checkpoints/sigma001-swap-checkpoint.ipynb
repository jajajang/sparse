{
 "cells": [
  {
   "cell_type": "code",
   "execution_count": null,
   "id": "3475efec",
   "metadata": {},
   "outputs": [
    {
     "name": "stdout",
     "output_type": "stream",
     "text": [
      "===============================================================================\n",
      "                                     CVXPY                                     \n",
      "                                     v1.2.0                                    \n",
      "===============================================================================\n",
      "(CVXPY) Mar 26 09:23:59 PM: Your problem has 420 variables, 2 constraints, and 0 parameters.\n",
      "(CVXPY) Mar 26 09:23:59 PM: It is compliant with the following grammars: DCP, DQCP\n",
      "(CVXPY) Mar 26 09:23:59 PM: (If you need to solve this problem multiple times, but with different data, consider using parameters.)\n",
      "(CVXPY) Mar 26 09:23:59 PM: CVXPY will first compile your problem; then, it will invoke a numerical solver to obtain a solution.\n",
      "-------------------------------------------------------------------------------\n",
      "                                  Compilation                                  \n",
      "-------------------------------------------------------------------------------\n",
      "(CVXPY) Mar 26 09:23:59 PM: Compiling problem (target solver=MOSEK).\n",
      "(CVXPY) Mar 26 09:23:59 PM: Reduction chain: Dcp2Cone -> CvxAttr2Constr -> ConeMatrixStuffing -> MOSEK\n",
      "(CVXPY) Mar 26 09:23:59 PM: Applying reduction Dcp2Cone\n",
      "(CVXPY) Mar 26 09:23:59 PM: Applying reduction CvxAttr2Constr\n",
      "(CVXPY) Mar 26 09:23:59 PM: Applying reduction ConeMatrixStuffing\n",
      "(CVXPY) Mar 26 09:23:59 PM: Applying reduction MOSEK\n",
      "(CVXPY) Mar 26 09:23:59 PM: Finished problem compilation (took 8.650e-02 seconds).\n",
      "-------------------------------------------------------------------------------\n",
      "                                Numerical solver                               \n",
      "-------------------------------------------------------------------------------\n",
      "(CVXPY) Mar 26 09:23:59 PM: Invoking solver MOSEK  to obtain a solution.\n",
      "\n",
      "\n",
      "(CVXPY) Mar 26 09:23:59 PM: Problem\n",
      "(CVXPY) Mar 26 09:23:59 PM:   Name                   :                 \n",
      "(CVXPY) Mar 26 09:23:59 PM:   Objective sense        : max             \n",
      "(CVXPY) Mar 26 09:23:59 PM:   Type                   : CONIC (conic optimization problem)\n",
      "(CVXPY) Mar 26 09:23:59 PM:   Constraints            : 231             \n",
      "(CVXPY) Mar 26 09:23:59 PM:   Cones                  : 0               \n",
      "(CVXPY) Mar 26 09:23:59 PM:   Scalar variables       : 41              \n",
      "(CVXPY) Mar 26 09:23:59 PM:   Matrix variables       : 1               \n",
      "(CVXPY) Mar 26 09:23:59 PM:   Integer variables      : 0               \n",
      "(CVXPY) Mar 26 09:23:59 PM: \n",
      "(CVXPY) Mar 26 09:23:59 PM: Optimizer started.\n",
      "(CVXPY) Mar 26 09:23:59 PM: Presolve started.\n",
      "(CVXPY) Mar 26 09:23:59 PM: Linear dependency checker started.\n",
      "(CVXPY) Mar 26 09:23:59 PM: Linear dependency checker terminated.\n",
      "(CVXPY) Mar 26 09:23:59 PM: Eliminator started.\n",
      "(CVXPY) Mar 26 09:23:59 PM: Freed constraints in eliminator : 0\n",
      "(CVXPY) Mar 26 09:23:59 PM: Eliminator terminated.\n",
      "(CVXPY) Mar 26 09:23:59 PM: Eliminator - tries                  : 1                 time                   : 0.00            \n",
      "(CVXPY) Mar 26 09:23:59 PM: Lin. dep.  - tries                  : 1                 time                   : 0.00            \n",
      "(CVXPY) Mar 26 09:23:59 PM: Lin. dep.  - number                 : 0               \n",
      "(CVXPY) Mar 26 09:23:59 PM: Presolve terminated. Time: 0.00    \n",
      "(CVXPY) Mar 26 09:23:59 PM: Problem\n",
      "(CVXPY) Mar 26 09:23:59 PM:   Name                   :                 \n",
      "(CVXPY) Mar 26 09:23:59 PM:   Objective sense        : max             \n",
      "(CVXPY) Mar 26 09:23:59 PM:   Type                   : CONIC (conic optimization problem)\n",
      "(CVXPY) Mar 26 09:23:59 PM:   Constraints            : 231             \n",
      "(CVXPY) Mar 26 09:23:59 PM:   Cones                  : 0               \n",
      "(CVXPY) Mar 26 09:23:59 PM:   Scalar variables       : 41              \n",
      "(CVXPY) Mar 26 09:23:59 PM:   Matrix variables       : 1               \n",
      "(CVXPY) Mar 26 09:23:59 PM:   Integer variables      : 0               \n",
      "(CVXPY) Mar 26 09:23:59 PM: \n",
      "(CVXPY) Mar 26 09:23:59 PM: Optimizer  - threads                : 4               \n",
      "(CVXPY) Mar 26 09:23:59 PM: Optimizer  - solved problem         : the primal      \n",
      "(CVXPY) Mar 26 09:23:59 PM: Optimizer  - Constraints            : 231\n",
      "(CVXPY) Mar 26 09:23:59 PM: Optimizer  - Cones                  : 1\n",
      "(CVXPY) Mar 26 09:23:59 PM: Optimizer  - Scalar variables       : 42                conic                  : 2               \n",
      "(CVXPY) Mar 26 09:23:59 PM: Optimizer  - Semi-definite variables: 1                 scalarized             : 820             \n",
      "(CVXPY) Mar 26 09:23:59 PM: Factor     - setup time             : 0.00              dense det. time        : 0.00            \n",
      "(CVXPY) Mar 26 09:23:59 PM: Factor     - ML order time          : 0.00              GP order time          : 0.00            \n",
      "(CVXPY) Mar 26 09:23:59 PM: Factor     - nonzeros before factor : 2.66e+04          after factor           : 2.66e+04        \n",
      "(CVXPY) Mar 26 09:23:59 PM: Factor     - dense dim.             : 0                 flops                  : 4.33e+06        \n",
      "(CVXPY) Mar 26 09:23:59 PM: ITE PFEAS    DFEAS    GFEAS    PRSTATUS   POBJ              DOBJ              MU       TIME  \n",
      "(CVXPY) Mar 26 09:23:59 PM: 0   2.0e+00  1.0e+00  1.0e+00  0.00e+00   0.000000000e+00   0.000000000e+00   1.0e+00  0.01  \n",
      "(CVXPY) Mar 26 09:23:59 PM: 1   6.7e-01  3.3e-01  4.6e-01  -7.93e-01  4.056194835e+00   2.964351254e+00   3.3e-01  0.03  \n",
      "(CVXPY) Mar 26 09:23:59 PM: 2   5.0e-02  2.5e-02  4.0e-02  -3.60e-01  1.507114298e+01   1.272556687e+01   2.5e-02  0.03  \n",
      "(CVXPY) Mar 26 09:23:59 PM: 3   1.4e-02  7.2e-03  7.7e-03  4.73e-01   1.818779477e+01   1.711914136e+01   7.2e-03  0.03  \n",
      "(CVXPY) Mar 26 09:23:59 PM: 4   5.5e-03  2.8e-03  1.8e-03  6.27e-01   1.989190703e+01   1.949778547e+01   2.8e-03  0.04  \n",
      "(CVXPY) Mar 26 09:23:59 PM: 5   3.8e-03  1.9e-03  9.3e-04  3.07e-01   2.006110743e+01   1.984197533e+01   1.9e-03  0.04  \n",
      "(CVXPY) Mar 26 09:23:59 PM: 6   3.2e-03  1.6e-03  9.0e-04  9.60e-03   2.191143322e+01   2.161344496e+01   1.6e-03  0.04  \n",
      "(CVXPY) Mar 26 09:23:59 PM: 7   4.4e-04  2.2e-04  5.6e-05  5.67e-01   2.473195722e+01   2.467084222e+01   2.2e-04  0.05  \n",
      "(CVXPY) Mar 26 09:23:59 PM: 8   1.8e-05  9.2e-06  4.9e-07  9.31e-01   2.522529074e+01   2.522262172e+01   9.2e-06  0.05  \n",
      "(CVXPY) Mar 26 09:23:59 PM: 9   6.7e-07  3.3e-07  3.4e-09  9.95e-01   2.525468675e+01   2.525458759e+01   3.3e-07  0.05  \n",
      "(CVXPY) Mar 26 09:23:59 PM: 10  6.1e-08  3.1e-08  9.5e-11  9.98e-01   2.525613530e+01   2.525612622e+01   3.1e-08  0.06  \n",
      "(CVXPY) Mar 26 09:23:59 PM: 11  8.9e-10  4.5e-10  1.6e-13  9.99e-01   2.525630693e+01   2.525630680e+01   4.4e-10  0.06  \n",
      "(CVXPY) Mar 26 09:23:59 PM: Optimizer terminated. Time: 0.07    \n",
      "(CVXPY) Mar 26 09:23:59 PM: \n",
      "(CVXPY) Mar 26 09:23:59 PM: \n",
      "(CVXPY) Mar 26 09:23:59 PM: Interior-point solution summary\n",
      "(CVXPY) Mar 26 09:23:59 PM:   Problem status  : PRIMAL_AND_DUAL_FEASIBLE\n",
      "(CVXPY) Mar 26 09:23:59 PM:   Solution status : OPTIMAL\n",
      "(CVXPY) Mar 26 09:23:59 PM:   Primal.  obj: 2.5256306930e+01    nrm: 4e+01    Viol.  con: 2e-08    var: 0e+00    barvar: 0e+00  \n",
      "(CVXPY) Mar 26 09:23:59 PM:   Dual.    obj: 2.5256306799e+01    nrm: 3e+01    Viol.  con: 0e+00    var: 2e-15    barvar: 8e-09  \n",
      "-------------------------------------------------------------------------------\n",
      "                                    Summary                                    \n",
      "-------------------------------------------------------------------------------\n",
      "(CVXPY) Mar 26 09:23:59 PM: Problem status: optimal\n",
      "(CVXPY) Mar 26 09:23:59 PM: Optimal value: 2.526e+01\n",
      "(CVXPY) Mar 26 09:23:59 PM: Compilation took 8.650e-02 seconds\n",
      "(CVXPY) Mar 26 09:23:59 PM: Solver (including time spent in interface) took 1.090e-01 seconds\n",
      "Set1 Optimization Finished\n",
      "\n",
      "Mu\n",
      "[0.13266566 0.04564918 0.04564918 0.04564918 0.04564918 0.04564918\n",
      " 0.04564918 0.04564918 0.04564918 0.04564918 0.04564918 0.04564918\n",
      " 0.04564918 0.04564918 0.04564918 0.04564918 0.04564918 0.04564918\n",
      " 0.04564918 0.04564918]\n",
      "M2\n",
      "25.25630384474551\n",
      "===============================================================================\n",
      "                                     CVXPY                                     \n",
      "                                     v1.2.0                                    \n",
      "===============================================================================\n",
      "(CVXPY) Mar 26 09:23:59 PM: Your problem has 20 variables, 1 constraints, and 0 parameters.\n"
     ]
    },
    {
     "name": "stdout",
     "output_type": "stream",
     "text": [
      "(CVXPY) Mar 26 09:23:59 PM: It is compliant with the following grammars: DCP, DQCP\n",
      "(CVXPY) Mar 26 09:23:59 PM: (If you need to solve this problem multiple times, but with different data, consider using parameters.)\n",
      "(CVXPY) Mar 26 09:23:59 PM: CVXPY will first compile your problem; then, it will invoke a numerical solver to obtain a solution.\n",
      "-------------------------------------------------------------------------------\n",
      "                                  Compilation                                  \n",
      "-------------------------------------------------------------------------------\n",
      "(CVXPY) Mar 26 09:23:59 PM: Compiling problem (target solver=MOSEK).\n",
      "(CVXPY) Mar 26 09:23:59 PM: Reduction chain: FlipObjective -> Dcp2Cone -> CvxAttr2Constr -> ConeMatrixStuffing -> MOSEK\n",
      "(CVXPY) Mar 26 09:23:59 PM: Applying reduction FlipObjective\n",
      "(CVXPY) Mar 26 09:23:59 PM: Applying reduction Dcp2Cone\n",
      "(CVXPY) Mar 26 09:23:59 PM: Applying reduction CvxAttr2Constr\n",
      "(CVXPY) Mar 26 09:23:59 PM: Applying reduction ConeMatrixStuffing\n",
      "(CVXPY) Mar 26 09:23:59 PM: Applying reduction MOSEK\n",
      "(CVXPY) Mar 26 09:23:59 PM: Finished problem compilation (took 2.143e-02 seconds).\n",
      "-------------------------------------------------------------------------------\n",
      "                                Numerical solver                               \n",
      "-------------------------------------------------------------------------------\n",
      "(CVXPY) Mar 26 09:23:59 PM: Invoking solver MOSEK  to obtain a solution.\n",
      "\n",
      "\n",
      "(CVXPY) Mar 26 09:23:59 PM: Problem\n",
      "(CVXPY) Mar 26 09:23:59 PM:   Name                   :                 \n",
      "(CVXPY) Mar 26 09:23:59 PM:   Objective sense        : max             \n",
      "(CVXPY) Mar 26 09:23:59 PM:   Type                   : CONIC (conic optimization problem)\n",
      "(CVXPY) Mar 26 09:23:59 PM:   Constraints            : 21              \n",
      "(CVXPY) Mar 26 09:23:59 PM:   Cones                  : 0               \n",
      "(CVXPY) Mar 26 09:23:59 PM:   Scalar variables       : 211             \n",
      "(CVXPY) Mar 26 09:23:59 PM:   Matrix variables       : 1               \n",
      "(CVXPY) Mar 26 09:23:59 PM:   Integer variables      : 0               \n",
      "(CVXPY) Mar 26 09:23:59 PM: \n",
      "(CVXPY) Mar 26 09:23:59 PM: Optimizer started.\n",
      "(CVXPY) Mar 26 09:23:59 PM: Presolve started.\n",
      "(CVXPY) Mar 26 09:23:59 PM: Linear dependency checker started.\n",
      "(CVXPY) Mar 26 09:23:59 PM: Linear dependency checker terminated.\n",
      "(CVXPY) Mar 26 09:23:59 PM: Eliminator started.\n",
      "(CVXPY) Mar 26 09:23:59 PM: Freed constraints in eliminator : 0\n",
      "(CVXPY) Mar 26 09:23:59 PM: Eliminator terminated.\n",
      "(CVXPY) Mar 26 09:23:59 PM: Eliminator started.\n",
      "(CVXPY) Mar 26 09:23:59 PM: Freed constraints in eliminator : 0\n",
      "(CVXPY) Mar 26 09:23:59 PM: Eliminator terminated.\n",
      "(CVXPY) Mar 26 09:23:59 PM: Eliminator - tries                  : 2                 time                   : 0.00            \n",
      "(CVXPY) Mar 26 09:23:59 PM: Lin. dep.  - tries                  : 1                 time                   : 0.00            \n",
      "(CVXPY) Mar 26 09:23:59 PM: Lin. dep.  - number                 : 0               \n",
      "(CVXPY) Mar 26 09:23:59 PM: Presolve terminated. Time: 0.01    \n",
      "(CVXPY) Mar 26 09:23:59 PM: Problem\n",
      "(CVXPY) Mar 26 09:23:59 PM:   Name                   :                 \n",
      "(CVXPY) Mar 26 09:23:59 PM:   Objective sense        : max             \n",
      "(CVXPY) Mar 26 09:23:59 PM:   Type                   : CONIC (conic optimization problem)\n",
      "(CVXPY) Mar 26 09:23:59 PM:   Constraints            : 21              \n",
      "(CVXPY) Mar 26 09:23:59 PM:   Cones                  : 0               \n",
      "(CVXPY) Mar 26 09:23:59 PM:   Scalar variables       : 211             \n",
      "(CVXPY) Mar 26 09:23:59 PM:   Matrix variables       : 1               \n",
      "(CVXPY) Mar 26 09:23:59 PM:   Integer variables      : 0               \n",
      "(CVXPY) Mar 26 09:23:59 PM: \n",
      "(CVXPY) Mar 26 09:23:59 PM: Optimizer  - threads                : 4               \n",
      "(CVXPY) Mar 26 09:23:59 PM: Optimizer  - solved problem         : the primal      \n",
      "(CVXPY) Mar 26 09:23:59 PM: Optimizer  - Constraints            : 21\n",
      "(CVXPY) Mar 26 09:23:59 PM: Optimizer  - Cones                  : 1\n",
      "(CVXPY) Mar 26 09:23:59 PM: Optimizer  - Scalar variables       : 22                conic                  : 2               \n",
      "(CVXPY) Mar 26 09:23:59 PM: Optimizer  - Semi-definite variables: 1                 scalarized             : 210             \n",
      "(CVXPY) Mar 26 09:23:59 PM: Factor     - setup time             : 0.00              dense det. time        : 0.00            \n",
      "(CVXPY) Mar 26 09:23:59 PM: Factor     - ML order time          : 0.00              GP order time          : 0.00            \n",
      "(CVXPY) Mar 26 09:23:59 PM: Factor     - nonzeros before factor : 231               after factor           : 231             \n",
      "(CVXPY) Mar 26 09:23:59 PM: Factor     - dense dim.             : 0                 flops                  : 1.36e+04        \n",
      "(CVXPY) Mar 26 09:23:59 PM: ITE PFEAS    DFEAS    GFEAS    PRSTATUS   POBJ              DOBJ              MU       TIME  \n",
      "(CVXPY) Mar 26 09:23:59 PM: 0   1.9e+01  1.0e+00  1.0e+00  0.00e+00   0.000000000e+00   0.000000000e+00   1.0e+00  0.01  \n",
      "(CVXPY) Mar 26 09:23:59 PM: 1   1.0e+01  5.3e-01  8.5e-02  2.09e+00   -1.298488493e-01  1.189282421e-01   5.3e-01  0.02  \n",
      "(CVXPY) Mar 26 09:23:59 PM: 2   5.7e+00  3.0e-01  4.4e-02  5.81e+00   -6.478636885e-02  -4.076195423e-02  3.0e-01  0.02  \n",
      "(CVXPY) Mar 26 09:23:59 PM: 3   3.5e+00  1.9e-01  2.3e-02  1.48e+00   -1.853138543e-02  -5.484428527e-03  1.9e-01  0.02  \n",
      "(CVXPY) Mar 26 09:23:59 PM: 4   9.7e-01  5.1e-02  3.0e-03  1.34e+00   -2.059937548e-02  -1.687898247e-02  5.1e-02  0.02  \n",
      "(CVXPY) Mar 26 09:23:59 PM: 5   2.6e-01  1.4e-02  4.2e-04  1.05e+00   -1.936420074e-02  -1.840225261e-02  1.4e-02  0.03  \n",
      "(CVXPY) Mar 26 09:23:59 PM: 6   1.0e-01  5.5e-03  1.0e-04  9.09e-01   -1.988520527e-02  -1.943173545e-02  5.5e-03  0.03  \n",
      "(CVXPY) Mar 26 09:23:59 PM: 7   9.9e-03  5.2e-04  1.6e-06  9.97e-01   -1.883718839e-02  -1.877136649e-02  5.2e-04  0.03  \n",
      "(CVXPY) Mar 26 09:23:59 PM: 8   3.2e-04  1.7e-05  9.4e-09  9.89e-01   -1.879162660e-02  -1.878950094e-02  1.7e-05  0.03  \n",
      "(CVXPY) Mar 26 09:23:59 PM: 9   2.4e-07  1.3e-08  1.9e-13  1.00e+00   -1.878914560e-02  -1.878914400e-02  1.3e-08  0.03  \n",
      "(CVXPY) Mar 26 09:23:59 PM: 10  5.1e-09  3.1e-09  5.8e-16  1.00e+00   -1.878914405e-02  -1.878914402e-02  2.7e-10  0.03  \n",
      "(CVXPY) Mar 26 09:23:59 PM: Optimizer terminated. Time: 0.04    \n",
      "(CVXPY) Mar 26 09:23:59 PM: \n",
      "(CVXPY) Mar 26 09:23:59 PM: \n",
      "(CVXPY) Mar 26 09:23:59 PM: Interior-point solution summary\n",
      "(CVXPY) Mar 26 09:23:59 PM:   Problem status  : PRIMAL_AND_DUAL_FEASIBLE\n",
      "(CVXPY) Mar 26 09:23:59 PM:   Solution status : OPTIMAL\n",
      "(CVXPY) Mar 26 09:23:59 PM:   Primal.  obj: -1.8789144053e-02   nrm: 1e+00    Viol.  con: 7e-10    var: 1e-10    barvar: 0e+00  \n",
      "(CVXPY) Mar 26 09:23:59 PM:   Dual.    obj: -1.8789144019e-02   nrm: 1e+00    Viol.  con: 0e+00    var: 6e-17    barvar: 4e-10  \n",
      "-------------------------------------------------------------------------------\n",
      "                                    Summary                                    \n",
      "-------------------------------------------------------------------------------\n",
      "(CVXPY) Mar 26 09:23:59 PM: Problem status: optimal\n",
      "(CVXPY) Mar 26 09:23:59 PM: Optimal value: 1.879e-02\n",
      "(CVXPY) Mar 26 09:23:59 PM: Compilation took 2.143e-02 seconds\n",
      "(CVXPY) Mar 26 09:23:59 PM: Solver (including time spent in interface) took 5.869e-02 seconds\n",
      "Set2 Optimization Finished\n",
      "\n",
      "Mu_hao\n",
      "[0.40502601 0.03131442 0.03131442 0.03131442 0.03131442 0.03131442\n",
      " 0.03131442 0.03131442 0.03131442 0.03131442 0.03131442 0.03131442\n",
      " 0.03131442 0.03131442 0.03131442 0.03131442 0.03131442 0.03131442\n",
      " 0.03131442 0.03131442]\n",
      "Cmin\n",
      "0.018789144030332987\n",
      "=====Repetition for total time 100=====\n",
      "=====Repetition for total time 200=====\n",
      "=====Repetition for total time 300=====\n",
      "=====Repetition for total time 400=====\n",
      "=====Repetition for total time 500=====\n",
      "=====Repetition for total time 600=====\n",
      "=====Repetition for total time 700=====\n",
      "=====Repetition for total time 800=====\n",
      "=====Repetition for total time 900=====\n",
      "=====Repetition for total time 1000=====\n",
      "=====Repetition for total time 1100=====\n",
      "=====Repetition for total time 1200=====\n",
      "=====Repetition for total time 1300=====\n",
      "=====Repetition for total time 1400=====\n",
      "=====Repetition for total time 1500=====\n"
     ]
    },
    {
     "name": "stdout",
     "output_type": "stream",
     "text": [
      "=====Repetition for total time 1600=====\n",
      "=====Repetition for total time 1700=====\n",
      "=====Repetition for total time 1800=====\n",
      "=====Repetition for total time 1900=====\n",
      "=====Repetition for total time 2000=====\n",
      "=====Repetition for total time 2100=====\n",
      "=====Repetition for total time 2200=====\n",
      "=====Repetition for total time 2300=====\n",
      "=====Repetition for total time 2400=====\n",
      "=====Repetition for total time 2500=====\n",
      "=====Repetition for total time 2600=====\n",
      "=====Repetition for total time 2700=====\n",
      "=====Repetition for total time 2800=====\n",
      "=====Repetition for total time 2900=====\n",
      "=====Repetition for total time 3000=====\n",
      "=====Repetition for total time 3100=====\n",
      "=====Repetition for total time 3200=====\n",
      "=====Repetition for total time 3300=====\n",
      "=====Repetition for total time 3400=====\n",
      "=====Repetition for total time 3500=====\n",
      "=====Repetition for total time 3600=====\n",
      "=====Repetition for total time 3700=====\n",
      "=====Repetition for total time 3800=====\n",
      "=====Repetition for total time 3900=====\n"
     ]
    }
   ],
   "source": [
    "%run -i 220327_InverseMax_lassochange.py --d 20 --inc 100 --sigma=0.01 --howlong 100"
   ]
  },
  {
   "cell_type": "code",
   "execution_count": 55,
   "id": "9c9c1a5f",
   "metadata": {},
   "outputs": [
    {
     "data": {
      "text/plain": [
       "array([137.47727085, 114.78511094,  69.27201355,  52.4527888 ,\n",
       "        35.94037784,  33.83782581,  35.09513237,  34.69892486,\n",
       "        32.96893056,  33.87434875,  33.86020826,  34.23437416,\n",
       "        32.0818699 ,  32.66550978,  33.11722636,  31.99645995,\n",
       "        31.89310184,  32.46368337,  31.49968291,  31.9365751 ])"
      ]
     },
     "execution_count": 55,
     "metadata": {},
     "output_type": "execute_result"
    }
   ],
   "source": [
    "errors"
   ]
  },
  {
   "cell_type": "code",
   "execution_count": 56,
   "id": "3ab5f11f",
   "metadata": {},
   "outputs": [
    {
     "data": {
      "text/plain": [
       "array([137.47727085, 137.47727085, 137.47727085, 137.47727085,\n",
       "       137.47727085, 137.47727085, 137.47727085, 137.47727085,\n",
       "       137.47727085, 137.47727085, 137.47727085, 137.47727085,\n",
       "       137.47727085, 136.99659396, 137.47727085, 137.07910036,\n",
       "       136.22222703, 134.69451399, 136.69115183, 136.56495354])"
      ]
     },
     "execution_count": 56,
     "metadata": {},
     "output_type": "execute_result"
    }
   ],
   "source": [
    "errors_hao"
   ]
  },
  {
   "cell_type": "code",
   "execution_count": 57,
   "id": "9677ba1c",
   "metadata": {},
   "outputs": [
    {
     "data": {
      "text/plain": [
       "array([33.54101966, 25.71478174, 11.18033989,  5.59016994,  0.        ,\n",
       "        0.        ,  0.        ,  0.        ,  0.        ,  0.        ,\n",
       "        0.        ,  0.        ,  0.        ,  0.        ,  0.        ,\n",
       "        0.        ,  0.        ,  0.        ,  0.        ,  0.        ])"
      ]
     },
     "execution_count": 57,
     "metadata": {},
     "output_type": "execute_result"
    }
   ],
   "source": [
    "choice_errors"
   ]
  },
  {
   "cell_type": "code",
   "execution_count": 58,
   "id": "c86a9618",
   "metadata": {},
   "outputs": [
    {
     "data": {
      "text/plain": [
       "array([33.54101966, 33.54101966, 33.54101966, 33.54101966, 33.54101966,\n",
       "       33.54101966, 33.54101966, 33.54101966, 33.54101966, 33.54101966,\n",
       "       33.54101966, 33.54101966, 33.54101966, 32.42298567, 33.54101966,\n",
       "       31.30495168, 26.83281573, 23.47871376, 31.30495168, 27.95084972])"
      ]
     },
     "execution_count": 58,
     "metadata": {},
     "output_type": "execute_result"
    }
   ],
   "source": [
    "choice_errors_h"
   ]
  },
  {
   "cell_type": "code",
   "execution_count": 48,
   "id": "918f19a7",
   "metadata": {},
   "outputs": [
    {
     "data": {
      "text/plain": [
       "3.7685571097298647"
      ]
     },
     "execution_count": 48,
     "metadata": {},
     "output_type": "execute_result"
    }
   ],
   "source": [
    "width_catoni(300,20,delta,vari)"
   ]
  },
  {
   "cell_type": "code",
   "execution_count": 49,
   "id": "30028cb2",
   "metadata": {},
   "outputs": [
    {
     "data": {
      "text/plain": [
       "array([ 1556, 22680,     0,   964])"
      ]
     },
     "execution_count": 49,
     "metadata": {},
     "output_type": "execute_result"
    }
   ],
   "source": [
    "support_check(hist_esti[240:], hist_true[240:])"
   ]
  },
  {
   "cell_type": "code",
   "execution_count": 13,
   "id": "96b7a0f6",
   "metadata": {},
   "outputs": [
    {
     "data": {
      "text/plain": [
       "array([[1. , 0. , 0. , ..., 0. , 0. , 0. ],\n",
       "       [1.5, 0. , 0. , ..., 0. , 0. , 0. ],\n",
       "       [1. , 0. , 0. , ..., 1. , 0. , 0. ],\n",
       "       ...,\n",
       "       [1. , 0. , 0. , ..., 0. , 0. , 0. ],\n",
       "       [1. , 1. , 0. , ..., 0. , 0. , 0. ],\n",
       "       [1.5, 0. , 0. , ..., 0. , 0. , 0. ]])"
      ]
     },
     "execution_count": 13,
     "metadata": {},
     "output_type": "execute_result"
    }
   ],
   "source": [
    "hist_b"
   ]
  },
  {
   "cell_type": "code",
   "execution_count": 50,
   "id": "48b6f281",
   "metadata": {},
   "outputs": [
    {
     "data": {
      "text/plain": [
       "array([-1.00488276, -1.00997616, -1.48974389, ..., -1.48896505,\n",
       "       -0.99229446, -1.50323814])"
      ]
     },
     "execution_count": 50,
     "metadata": {},
     "output_type": "execute_result"
    }
   ],
   "source": [
    "r_b"
   ]
  },
  {
   "cell_type": "code",
   "execution_count": 52,
   "id": "952ed197",
   "metadata": {},
   "outputs": [
    {
     "data": {
      "text/plain": [
       "array([-0.        ,  0.        ,  0.        ,  0.        ,  0.        ,\n",
       "        0.        ,  0.        ,  0.        ,  0.        ,  0.        ,\n",
       "        0.        ,  0.        ,  0.        ,  0.        ,  0.        ,\n",
       "        0.        ,  0.        ,  0.        ,  0.        ,  1.54403279])"
      ]
     },
     "execution_count": 52,
     "metadata": {},
     "output_type": "execute_result"
    }
   ],
   "source": [
    "clf.coef_"
   ]
  },
  {
   "cell_type": "code",
   "execution_count": 59,
   "id": "d7ff09fb",
   "metadata": {},
   "outputs": [
    {
     "data": {
      "text/plain": [
       "array([1.5, 0. , 0. , 0. , 0. , 0. , 0. , 0. , 0. , 0. , 0. , 0. , 0. ,\n",
       "       0. , 0. , 0. , 0. , 0. , 0. , 0. ])"
      ]
     },
     "execution_count": 59,
     "metadata": {},
     "output_type": "execute_result"
    }
   ],
   "source": [
    "a_hat_h"
   ]
  },
  {
   "cell_type": "code",
   "execution_count": 60,
   "id": "acc19be9",
   "metadata": {},
   "outputs": [
    {
     "data": {
      "text/plain": [
       "array([-1.        ,  0.        ,  0.        ,  0.        ,  0.        ,\n",
       "        4.47213595,  0.        ,  0.        ,  0.        ,  0.        ,\n",
       "        0.        ,  0.        ,  0.        ,  0.        ,  0.        ,\n",
       "        0.        ,  0.        ,  0.        ,  0.        ,  0.        ])"
      ]
     },
     "execution_count": 60,
     "metadata": {},
     "output_type": "execute_result"
    }
   ],
   "source": [
    "theta"
   ]
  },
  {
   "cell_type": "code",
   "execution_count": 63,
   "id": "0d98cb6f",
   "metadata": {},
   "outputs": [
    {
     "data": {
      "text/plain": [
       "array([-0.        ,  0.        ,  0.        ,  0.        ,  0.        ,\n",
       "        0.        ,  0.        ,  0.        ,  0.        ,  0.30905462,\n",
       "        0.        ,  0.        ,  0.        ,  0.        ,  0.        ,\n",
       "        0.        ,  0.        ,  0.        ,  0.        ,  0.        ])"
      ]
     },
     "execution_count": 63,
     "metadata": {},
     "output_type": "execute_result"
    }
   ],
   "source": [
    "hist_esti_hao[501]"
   ]
  },
  {
   "cell_type": "code",
   "execution_count": null,
   "id": "16f8da68",
   "metadata": {},
   "outputs": [],
   "source": []
  }
 ],
 "metadata": {
  "kernelspec": {
   "display_name": "Python 3 (ipykernel)",
   "language": "python",
   "name": "python3"
  },
  "language_info": {
   "codemirror_mode": {
    "name": "ipython",
    "version": 3
   },
   "file_extension": ".py",
   "mimetype": "text/x-python",
   "name": "python",
   "nbconvert_exporter": "python",
   "pygments_lexer": "ipython3",
   "version": "3.9.7"
  }
 },
 "nbformat": 4,
 "nbformat_minor": 5
}
