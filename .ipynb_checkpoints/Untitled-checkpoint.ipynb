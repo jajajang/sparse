{
 "cells": [
  {
   "cell_type": "code",
   "execution_count": null,
   "id": "dacea7bc",
   "metadata": {},
   "outputs": [],
   "source": [
    "%run -i InverseMax.py --d 20 --inc 500 --sigma=0.01"
   ]
  }
 ],
 "metadata": {
  "kernelspec": {
   "display_name": "Python 3 (ipykernel)",
   "language": "python",
   "name": "python3"
  },
  "language_info": {
   "codemirror_mode": {
    "name": "ipython",
    "version": 3
   },
   "file_extension": ".py",
   "mimetype": "text/x-python",
   "name": "python",
   "nbconvert_exporter": "python",
   "pygments_lexer": "ipython3",
   "version": "3.9.7"
  }
 },
 "nbformat": 4,
 "nbformat_minor": 5
}
