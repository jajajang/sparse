{
 "cells": [
  {
   "cell_type": "code",
   "execution_count": 1,
   "id": "2af8fc68",
   "metadata": {},
   "outputs": [
    {
     "name": "stdout",
     "output_type": "stream",
     "text": [
      "===============================================================================\n",
      "                                     CVXPY                                     \n",
      "                                     v1.2.0                                    \n",
      "===============================================================================\n",
      "(CVXPY) Mar 26 08:09:33 PM: Your problem has 420 variables, 2 constraints, and 0 parameters.\n",
      "(CVXPY) Mar 26 08:09:33 PM: It is compliant with the following grammars: DCP, DQCP\n",
      "(CVXPY) Mar 26 08:09:33 PM: (If you need to solve this problem multiple times, but with different data, consider using parameters.)\n",
      "(CVXPY) Mar 26 08:09:33 PM: CVXPY will first compile your problem; then, it will invoke a numerical solver to obtain a solution.\n",
      "-------------------------------------------------------------------------------\n",
      "                                  Compilation                                  \n",
      "-------------------------------------------------------------------------------\n",
      "(CVXPY) Mar 26 08:09:33 PM: Compiling problem (target solver=MOSEK).\n",
      "(CVXPY) Mar 26 08:09:33 PM: Reduction chain: Dcp2Cone -> CvxAttr2Constr -> ConeMatrixStuffing -> MOSEK\n",
      "(CVXPY) Mar 26 08:09:33 PM: Applying reduction Dcp2Cone\n",
      "(CVXPY) Mar 26 08:09:33 PM: Applying reduction CvxAttr2Constr\n",
      "(CVXPY) Mar 26 08:09:33 PM: Applying reduction ConeMatrixStuffing\n",
      "(CVXPY) Mar 26 08:09:33 PM: Applying reduction MOSEK\n",
      "(CVXPY) Mar 26 08:09:33 PM: Finished problem compilation (took 9.249e-02 seconds).\n",
      "-------------------------------------------------------------------------------\n",
      "                                Numerical solver                               \n",
      "-------------------------------------------------------------------------------\n",
      "(CVXPY) Mar 26 08:09:33 PM: Invoking solver MOSEK  to obtain a solution.\n",
      "\n",
      "\n",
      "(CVXPY) Mar 26 08:09:33 PM: Problem\n",
      "(CVXPY) Mar 26 08:09:33 PM:   Name                   :                 \n",
      "(CVXPY) Mar 26 08:09:33 PM:   Objective sense        : max             \n",
      "(CVXPY) Mar 26 08:09:33 PM:   Type                   : CONIC (conic optimization problem)\n",
      "(CVXPY) Mar 26 08:09:33 PM:   Constraints            : 231             \n",
      "(CVXPY) Mar 26 08:09:33 PM:   Cones                  : 0               \n",
      "(CVXPY) Mar 26 08:09:33 PM:   Scalar variables       : 41              \n",
      "(CVXPY) Mar 26 08:09:33 PM:   Matrix variables       : 1               \n",
      "(CVXPY) Mar 26 08:09:33 PM:   Integer variables      : 0               \n",
      "(CVXPY) Mar 26 08:09:33 PM: \n",
      "(CVXPY) Mar 26 08:09:33 PM: Optimizer started.\n",
      "(CVXPY) Mar 26 08:09:33 PM: Presolve started.\n",
      "(CVXPY) Mar 26 08:09:33 PM: Linear dependency checker started.\n",
      "(CVXPY) Mar 26 08:09:33 PM: Linear dependency checker terminated.\n",
      "(CVXPY) Mar 26 08:09:33 PM: Eliminator started.\n",
      "(CVXPY) Mar 26 08:09:33 PM: Freed constraints in eliminator : 0\n",
      "(CVXPY) Mar 26 08:09:33 PM: Eliminator terminated.\n",
      "(CVXPY) Mar 26 08:09:33 PM: Eliminator - tries                  : 1                 time                   : 0.00            \n",
      "(CVXPY) Mar 26 08:09:33 PM: Lin. dep.  - tries                  : 1                 time                   : 0.00            \n",
      "(CVXPY) Mar 26 08:09:33 PM: Lin. dep.  - number                 : 0               \n",
      "(CVXPY) Mar 26 08:09:33 PM: Presolve terminated. Time: 0.00    \n",
      "(CVXPY) Mar 26 08:09:33 PM: Problem\n",
      "(CVXPY) Mar 26 08:09:33 PM:   Name                   :                 \n",
      "(CVXPY) Mar 26 08:09:33 PM:   Objective sense        : max             \n",
      "(CVXPY) Mar 26 08:09:33 PM:   Type                   : CONIC (conic optimization problem)\n",
      "(CVXPY) Mar 26 08:09:33 PM:   Constraints            : 231             \n",
      "(CVXPY) Mar 26 08:09:33 PM:   Cones                  : 0               \n",
      "(CVXPY) Mar 26 08:09:33 PM:   Scalar variables       : 41              \n",
      "(CVXPY) Mar 26 08:09:33 PM:   Matrix variables       : 1               \n",
      "(CVXPY) Mar 26 08:09:33 PM:   Integer variables      : 0               \n",
      "(CVXPY) Mar 26 08:09:33 PM: \n",
      "(CVXPY) Mar 26 08:09:33 PM: Optimizer  - threads                : 4               \n",
      "(CVXPY) Mar 26 08:09:33 PM: Optimizer  - solved problem         : the primal      \n",
      "(CVXPY) Mar 26 08:09:33 PM: Optimizer  - Constraints            : 231\n",
      "(CVXPY) Mar 26 08:09:33 PM: Optimizer  - Cones                  : 1\n",
      "(CVXPY) Mar 26 08:09:33 PM: Optimizer  - Scalar variables       : 42                conic                  : 2               \n",
      "(CVXPY) Mar 26 08:09:33 PM: Optimizer  - Semi-definite variables: 1                 scalarized             : 820             \n",
      "(CVXPY) Mar 26 08:09:33 PM: Factor     - setup time             : 0.00              dense det. time        : 0.00            \n",
      "(CVXPY) Mar 26 08:09:33 PM: Factor     - ML order time          : 0.00              GP order time          : 0.00            \n",
      "(CVXPY) Mar 26 08:09:33 PM: Factor     - nonzeros before factor : 2.66e+04          after factor           : 2.66e+04        \n",
      "(CVXPY) Mar 26 08:09:33 PM: Factor     - dense dim.             : 0                 flops                  : 4.33e+06        \n",
      "(CVXPY) Mar 26 08:09:33 PM: ITE PFEAS    DFEAS    GFEAS    PRSTATUS   POBJ              DOBJ              MU       TIME  \n",
      "(CVXPY) Mar 26 08:09:33 PM: 0   2.0e+00  1.0e+00  1.0e+00  0.00e+00   0.000000000e+00   0.000000000e+00   1.0e+00  0.01  \n",
      "(CVXPY) Mar 26 08:09:33 PM: 1   6.7e-01  3.3e-01  4.6e-01  -7.93e-01  4.056194835e+00   2.964351254e+00   3.3e-01  0.04  \n",
      "(CVXPY) Mar 26 08:09:33 PM: 2   5.0e-02  2.5e-02  4.0e-02  -3.60e-01  1.507114298e+01   1.272556687e+01   2.5e-02  0.04  \n",
      "(CVXPY) Mar 26 08:09:33 PM: 3   1.4e-02  7.2e-03  7.7e-03  4.73e-01   1.818779477e+01   1.711914136e+01   7.2e-03  0.04  \n",
      "(CVXPY) Mar 26 08:09:33 PM: 4   5.5e-03  2.8e-03  1.8e-03  6.27e-01   1.989190703e+01   1.949778547e+01   2.8e-03  0.05  \n",
      "(CVXPY) Mar 26 08:09:33 PM: 5   3.8e-03  1.9e-03  9.3e-04  3.07e-01   2.006110743e+01   1.984197533e+01   1.9e-03  0.05  \n",
      "(CVXPY) Mar 26 08:09:33 PM: 6   3.2e-03  1.6e-03  9.0e-04  9.60e-03   2.191143322e+01   2.161344496e+01   1.6e-03  0.05  \n",
      "(CVXPY) Mar 26 08:09:33 PM: 7   4.4e-04  2.2e-04  5.6e-05  5.67e-01   2.473195722e+01   2.467084222e+01   2.2e-04  0.05  \n",
      "(CVXPY) Mar 26 08:09:33 PM: 8   1.8e-05  9.2e-06  4.9e-07  9.31e-01   2.522529074e+01   2.522262172e+01   9.2e-06  0.06  \n",
      "(CVXPY) Mar 26 08:09:33 PM: 9   6.7e-07  3.3e-07  3.4e-09  9.95e-01   2.525468675e+01   2.525458759e+01   3.3e-07  0.06  \n",
      "(CVXPY) Mar 26 08:09:33 PM: 10  6.1e-08  3.1e-08  9.5e-11  9.98e-01   2.525613530e+01   2.525612622e+01   3.1e-08  0.06  \n",
      "(CVXPY) Mar 26 08:09:33 PM: 11  8.9e-10  4.5e-10  1.6e-13  9.99e-01   2.525630693e+01   2.525630680e+01   4.4e-10  0.07  \n",
      "(CVXPY) Mar 26 08:09:33 PM: Optimizer terminated. Time: 0.07    \n",
      "(CVXPY) Mar 26 08:09:33 PM: \n",
      "(CVXPY) Mar 26 08:09:33 PM: \n",
      "(CVXPY) Mar 26 08:09:33 PM: Interior-point solution summary\n",
      "(CVXPY) Mar 26 08:09:33 PM:   Problem status  : PRIMAL_AND_DUAL_FEASIBLE\n",
      "(CVXPY) Mar 26 08:09:33 PM:   Solution status : OPTIMAL\n",
      "(CVXPY) Mar 26 08:09:33 PM:   Primal.  obj: 2.5256306930e+01    nrm: 4e+01    Viol.  con: 2e-08    var: 0e+00    barvar: 0e+00  \n",
      "(CVXPY) Mar 26 08:09:33 PM:   Dual.    obj: 2.5256306799e+01    nrm: 3e+01    Viol.  con: 0e+00    var: 2e-15    barvar: 8e-09  \n",
      "-------------------------------------------------------------------------------\n",
      "                                    Summary                                    \n",
      "-------------------------------------------------------------------------------\n",
      "(CVXPY) Mar 26 08:09:33 PM: Problem status: optimal\n",
      "(CVXPY) Mar 26 08:09:33 PM: Optimal value: 2.526e+01\n",
      "(CVXPY) Mar 26 08:09:33 PM: Compilation took 9.249e-02 seconds\n",
      "(CVXPY) Mar 26 08:09:33 PM: Solver (including time spent in interface) took 1.168e-01 seconds\n",
      "Set1 Optimization Finished\n",
      "\n",
      "Mu\n",
      "[0.13266566 0.04564918 0.04564918 0.04564918 0.04564918 0.04564918\n",
      " 0.04564918 0.04564918 0.04564918 0.04564918 0.04564918 0.04564918\n",
      " 0.04564918 0.04564918 0.04564918 0.04564918 0.04564918 0.04564918\n",
      " 0.04564918 0.04564918]\n",
      "M2\n",
      "25.25630384474551\n",
      "===============================================================================\n",
      "                                     CVXPY                                     \n",
      "                                     v1.2.0                                    \n",
      "===============================================================================\n",
      "(CVXPY) Mar 26 08:09:33 PM: Your problem has 20 variables, 1 constraints, and 0 parameters.\n"
     ]
    },
    {
     "name": "stdout",
     "output_type": "stream",
     "text": [
      "(CVXPY) Mar 26 08:09:33 PM: It is compliant with the following grammars: DCP, DQCP\n",
      "(CVXPY) Mar 26 08:09:33 PM: (If you need to solve this problem multiple times, but with different data, consider using parameters.)\n",
      "(CVXPY) Mar 26 08:09:33 PM: CVXPY will first compile your problem; then, it will invoke a numerical solver to obtain a solution.\n",
      "-------------------------------------------------------------------------------\n",
      "                                  Compilation                                  \n",
      "-------------------------------------------------------------------------------\n",
      "(CVXPY) Mar 26 08:09:33 PM: Compiling problem (target solver=MOSEK).\n",
      "(CVXPY) Mar 26 08:09:33 PM: Reduction chain: FlipObjective -> Dcp2Cone -> CvxAttr2Constr -> ConeMatrixStuffing -> MOSEK\n",
      "(CVXPY) Mar 26 08:09:33 PM: Applying reduction FlipObjective\n",
      "(CVXPY) Mar 26 08:09:33 PM: Applying reduction Dcp2Cone\n",
      "(CVXPY) Mar 26 08:09:33 PM: Applying reduction CvxAttr2Constr\n",
      "(CVXPY) Mar 26 08:09:33 PM: Applying reduction ConeMatrixStuffing\n",
      "(CVXPY) Mar 26 08:09:33 PM: Applying reduction MOSEK\n",
      "(CVXPY) Mar 26 08:09:33 PM: Finished problem compilation (took 2.121e-02 seconds).\n",
      "-------------------------------------------------------------------------------\n",
      "                                Numerical solver                               \n",
      "-------------------------------------------------------------------------------\n",
      "(CVXPY) Mar 26 08:09:33 PM: Invoking solver MOSEK  to obtain a solution.\n",
      "\n",
      "\n",
      "(CVXPY) Mar 26 08:09:33 PM: Problem\n",
      "(CVXPY) Mar 26 08:09:33 PM:   Name                   :                 \n",
      "(CVXPY) Mar 26 08:09:33 PM:   Objective sense        : max             \n",
      "(CVXPY) Mar 26 08:09:33 PM:   Type                   : CONIC (conic optimization problem)\n",
      "(CVXPY) Mar 26 08:09:33 PM:   Constraints            : 21              \n",
      "(CVXPY) Mar 26 08:09:33 PM:   Cones                  : 0               \n",
      "(CVXPY) Mar 26 08:09:33 PM:   Scalar variables       : 211             \n",
      "(CVXPY) Mar 26 08:09:33 PM:   Matrix variables       : 1               \n",
      "(CVXPY) Mar 26 08:09:33 PM:   Integer variables      : 0               \n",
      "(CVXPY) Mar 26 08:09:33 PM: \n",
      "(CVXPY) Mar 26 08:09:33 PM: Optimizer started.\n",
      "(CVXPY) Mar 26 08:09:33 PM: Presolve started.\n",
      "(CVXPY) Mar 26 08:09:33 PM: Linear dependency checker started.\n",
      "(CVXPY) Mar 26 08:09:33 PM: Linear dependency checker terminated.\n",
      "(CVXPY) Mar 26 08:09:33 PM: Eliminator started.\n",
      "(CVXPY) Mar 26 08:09:33 PM: Freed constraints in eliminator : 0\n",
      "(CVXPY) Mar 26 08:09:33 PM: Eliminator terminated.\n",
      "(CVXPY) Mar 26 08:09:33 PM: Eliminator started.\n",
      "(CVXPY) Mar 26 08:09:33 PM: Freed constraints in eliminator : 0\n",
      "(CVXPY) Mar 26 08:09:33 PM: Eliminator terminated.\n",
      "(CVXPY) Mar 26 08:09:33 PM: Eliminator - tries                  : 2                 time                   : 0.00            \n",
      "(CVXPY) Mar 26 08:09:33 PM: Lin. dep.  - tries                  : 1                 time                   : 0.00            \n",
      "(CVXPY) Mar 26 08:09:33 PM: Lin. dep.  - number                 : 0               \n",
      "(CVXPY) Mar 26 08:09:33 PM: Presolve terminated. Time: 0.01    \n",
      "(CVXPY) Mar 26 08:09:33 PM: Problem\n",
      "(CVXPY) Mar 26 08:09:33 PM:   Name                   :                 \n",
      "(CVXPY) Mar 26 08:09:33 PM:   Objective sense        : max             \n",
      "(CVXPY) Mar 26 08:09:33 PM:   Type                   : CONIC (conic optimization problem)\n",
      "(CVXPY) Mar 26 08:09:33 PM:   Constraints            : 21              \n",
      "(CVXPY) Mar 26 08:09:33 PM:   Cones                  : 0               \n",
      "(CVXPY) Mar 26 08:09:33 PM:   Scalar variables       : 211             \n",
      "(CVXPY) Mar 26 08:09:33 PM:   Matrix variables       : 1               \n",
      "(CVXPY) Mar 26 08:09:33 PM:   Integer variables      : 0               \n",
      "(CVXPY) Mar 26 08:09:33 PM: \n",
      "(CVXPY) Mar 26 08:09:33 PM: Optimizer  - threads                : 4               \n",
      "(CVXPY) Mar 26 08:09:33 PM: Optimizer  - solved problem         : the primal      \n",
      "(CVXPY) Mar 26 08:09:33 PM: Optimizer  - Constraints            : 21\n",
      "(CVXPY) Mar 26 08:09:33 PM: Optimizer  - Cones                  : 1\n",
      "(CVXPY) Mar 26 08:09:33 PM: Optimizer  - Scalar variables       : 22                conic                  : 2               \n",
      "(CVXPY) Mar 26 08:09:33 PM: Optimizer  - Semi-definite variables: 1                 scalarized             : 210             \n",
      "(CVXPY) Mar 26 08:09:33 PM: Factor     - setup time             : 0.00              dense det. time        : 0.00            \n",
      "(CVXPY) Mar 26 08:09:33 PM: Factor     - ML order time          : 0.00              GP order time          : 0.00            \n",
      "(CVXPY) Mar 26 08:09:33 PM: Factor     - nonzeros before factor : 231               after factor           : 231             \n",
      "(CVXPY) Mar 26 08:09:33 PM: Factor     - dense dim.             : 0                 flops                  : 1.36e+04        \n",
      "(CVXPY) Mar 26 08:09:33 PM: ITE PFEAS    DFEAS    GFEAS    PRSTATUS   POBJ              DOBJ              MU       TIME  \n",
      "(CVXPY) Mar 26 08:09:33 PM: 0   1.9e+01  1.0e+00  1.0e+00  0.00e+00   0.000000000e+00   0.000000000e+00   1.0e+00  0.01  \n",
      "(CVXPY) Mar 26 08:09:33 PM: 1   1.0e+01  5.3e-01  8.5e-02  2.09e+00   -1.298488493e-01  1.189282421e-01   5.3e-01  0.02  \n",
      "(CVXPY) Mar 26 08:09:33 PM: 2   5.7e+00  3.0e-01  4.4e-02  5.81e+00   -6.478636885e-02  -4.076195423e-02  3.0e-01  0.02  \n",
      "(CVXPY) Mar 26 08:09:33 PM: 3   3.5e+00  1.9e-01  2.3e-02  1.48e+00   -1.853138543e-02  -5.484428527e-03  1.9e-01  0.03  \n",
      "(CVXPY) Mar 26 08:09:33 PM: 4   9.7e-01  5.1e-02  3.0e-03  1.34e+00   -2.059937548e-02  -1.687898247e-02  5.1e-02  0.03  \n",
      "(CVXPY) Mar 26 08:09:33 PM: 5   2.6e-01  1.4e-02  4.2e-04  1.05e+00   -1.936420074e-02  -1.840225261e-02  1.4e-02  0.03  \n",
      "(CVXPY) Mar 26 08:09:33 PM: 6   1.0e-01  5.5e-03  1.0e-04  9.09e-01   -1.988520527e-02  -1.943173545e-02  5.5e-03  0.03  \n",
      "(CVXPY) Mar 26 08:09:33 PM: 7   9.9e-03  5.2e-04  1.6e-06  9.97e-01   -1.883718839e-02  -1.877136649e-02  5.2e-04  0.03  \n",
      "(CVXPY) Mar 26 08:09:33 PM: 8   3.2e-04  1.7e-05  9.4e-09  9.89e-01   -1.879162660e-02  -1.878950094e-02  1.7e-05  0.03  \n",
      "(CVXPY) Mar 26 08:09:33 PM: 9   2.4e-07  1.3e-08  1.9e-13  1.00e+00   -1.878914560e-02  -1.878914400e-02  1.3e-08  0.03  \n",
      "(CVXPY) Mar 26 08:09:33 PM: 10  5.1e-09  3.1e-09  5.8e-16  1.00e+00   -1.878914405e-02  -1.878914402e-02  2.7e-10  0.03  \n",
      "(CVXPY) Mar 26 08:09:33 PM: Optimizer terminated. Time: 0.04    \n",
      "(CVXPY) Mar 26 08:09:33 PM: \n",
      "(CVXPY) Mar 26 08:09:33 PM: \n",
      "(CVXPY) Mar 26 08:09:33 PM: Interior-point solution summary\n",
      "(CVXPY) Mar 26 08:09:33 PM:   Problem status  : PRIMAL_AND_DUAL_FEASIBLE\n",
      "(CVXPY) Mar 26 08:09:33 PM:   Solution status : OPTIMAL\n",
      "(CVXPY) Mar 26 08:09:33 PM:   Primal.  obj: -1.8789144053e-02   nrm: 1e+00    Viol.  con: 7e-10    var: 1e-10    barvar: 0e+00  \n",
      "(CVXPY) Mar 26 08:09:33 PM:   Dual.    obj: -1.8789144019e-02   nrm: 1e+00    Viol.  con: 0e+00    var: 6e-17    barvar: 4e-10  \n",
      "-------------------------------------------------------------------------------\n",
      "                                    Summary                                    \n",
      "-------------------------------------------------------------------------------\n",
      "(CVXPY) Mar 26 08:09:33 PM: Problem status: optimal\n",
      "(CVXPY) Mar 26 08:09:33 PM: Optimal value: 1.879e-02\n",
      "(CVXPY) Mar 26 08:09:33 PM: Compilation took 2.121e-02 seconds\n",
      "(CVXPY) Mar 26 08:09:33 PM: Solver (including time spent in interface) took 5.639e-02 seconds\n",
      "Set2 Optimization Finished\n",
      "\n",
      "Mu_hao\n",
      "[0.40502601 0.03131442 0.03131442 0.03131442 0.03131442 0.03131442\n",
      " 0.03131442 0.03131442 0.03131442 0.03131442 0.03131442 0.03131442\n",
      " 0.03131442 0.03131442 0.03131442 0.03131442 0.03131442 0.03131442\n",
      " 0.03131442 0.03131442]\n",
      "Cmin\n",
      "0.018789144030332987\n",
      "=====Repetition for total time 500=====\n",
      "=====Repetition for total time 1000=====\n",
      "=====Repetition for total time 1500=====\n",
      "=====Repetition for total time 2000=====\n",
      "=====Repetition for total time 2500=====\n",
      "=====Repetition for total time 3000=====\n",
      "=====Repetition for total time 3500=====\n",
      "=====Repetition for total time 4000=====\n",
      "=====Repetition for total time 4500=====\n",
      "=====Repetition for total time 5000=====\n",
      "=====Repetition for total time 5500=====\n",
      "=====Repetition for total time 6000=====\n",
      "=====Repetition for total time 6500=====\n",
      "=====Repetition for total time 7000=====\n",
      "=====Repetition for total time 7500=====\n"
     ]
    },
    {
     "name": "stdout",
     "output_type": "stream",
     "text": [
      "=====Repetition for total time 8000=====\n",
      "=====Repetition for total time 8500=====\n",
      "=====Repetition for total time 9000=====\n",
      "=====Repetition for total time 9500=====\n",
      "=====Repetition for total time 10000=====\n"
     ]
    }
   ],
   "source": [
    "%run -i InverseMax.py --d 20 --inc 500 --sigma=0.01"
   ]
  },
  {
   "cell_type": "code",
   "execution_count": 2,
   "id": "75e32344",
   "metadata": {},
   "outputs": [
    {
     "data": {
      "text/plain": [
       "array([34.26606512, 34.41959286, 31.97275181, 31.90636791, 31.11925531,\n",
       "       31.58710235, 31.07012277, 21.42038075,  8.1102569 ,  4.86305619,\n",
       "        6.43726736,  4.70216733,  4.1393765 ,  4.17962988,  5.60093849,\n",
       "        4.45639414,  3.73790614,  4.67495039,  4.85600203,  3.52667421])"
      ]
     },
     "execution_count": 2,
     "metadata": {},
     "output_type": "execute_result"
    }
   ],
   "source": [
    "errors"
   ]
  },
  {
   "cell_type": "code",
   "execution_count": 3,
   "id": "809f407e",
   "metadata": {},
   "outputs": [
    {
     "data": {
      "text/plain": [
       "array([129.34646064, 106.54375062,  89.84689953,  78.81939398,\n",
       "        70.11239893,  64.87262353,  59.2126998 ,  55.02240987,\n",
       "        51.72513935,  49.48239642,  46.96420734,  45.17739268,\n",
       "        42.33857674,  41.50829283,  39.82472165,  38.87560173,\n",
       "        37.23634332,  36.28113968,  35.20122378,  34.6110591 ])"
      ]
     },
     "execution_count": 3,
     "metadata": {},
     "output_type": "execute_result"
    }
   ],
   "source": [
    "errors_hao"
   ]
  },
  {
   "cell_type": "code",
   "execution_count": 4,
   "id": "9685a630",
   "metadata": {},
   "outputs": [
    {
     "data": {
      "text/plain": [
       "array([0., 0., 0., 0., 0., 0., 0., 0., 0., 0., 0., 0., 0., 0., 0., 0., 0.,\n",
       "       0., 0., 0.])"
      ]
     },
     "execution_count": 4,
     "metadata": {},
     "output_type": "execute_result"
    }
   ],
   "source": [
    "choice_errors"
   ]
  },
  {
   "cell_type": "code",
   "execution_count": 6,
   "id": "a295d07c",
   "metadata": {},
   "outputs": [
    {
     "data": {
      "text/plain": [
       "array([122.19487877, 120.20879868, 120.20879868, 120.20879868,\n",
       "       120.20879868, 120.20879868, 120.20879868, 120.20879868,\n",
       "       120.20879868, 120.20879868, 120.20879868, 120.20879868,\n",
       "       120.20879868, 120.20879868, 120.20879868, 120.20879868,\n",
       "       120.20879868, 120.20879868, 120.20879868, 120.20879868])"
      ]
     },
     "execution_count": 6,
     "metadata": {},
     "output_type": "execute_result"
    }
   ],
   "source": [
    "choice_errors_h"
   ]
  },
  {
   "cell_type": "code",
   "execution_count": 10,
   "id": "dc43a2c2",
   "metadata": {},
   "outputs": [
    {
     "data": {
      "text/plain": [
       "1.0104934519977458"
      ]
     },
     "execution_count": 10,
     "metadata": {},
     "output_type": "execute_result"
    }
   ],
   "source": [
    "width_catoni(4000,d,delta,vari)"
   ]
  },
  {
   "cell_type": "code",
   "execution_count": 12,
   "id": "4719ca52",
   "metadata": {},
   "outputs": [
    {
     "data": {
      "text/plain": [
       "array([ 716, 6480,    0,    4])"
      ]
     },
     "execution_count": 12,
     "metadata": {},
     "output_type": "execute_result"
    }
   ],
   "source": [
    "support_check(hist_esti[240:], hist_true[240:])"
   ]
  },
  {
   "cell_type": "code",
   "execution_count": null,
   "id": "644dd265",
   "metadata": {},
   "outputs": [],
   "source": []
  }
 ],
 "metadata": {
  "kernelspec": {
   "display_name": "Python 3 (ipykernel)",
   "language": "python",
   "name": "python3"
  },
  "language_info": {
   "codemirror_mode": {
    "name": "ipython",
    "version": 3
   },
   "file_extension": ".py",
   "mimetype": "text/x-python",
   "name": "python",
   "nbconvert_exporter": "python",
   "pygments_lexer": "ipython3",
   "version": "3.9.7"
  }
 },
 "nbformat": 4,
 "nbformat_minor": 5
}
