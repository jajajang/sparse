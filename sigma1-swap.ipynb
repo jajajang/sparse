{
 "cells": [
  {
   "cell_type": "code",
   "execution_count": 8,
   "id": "18fa05fb",
   "metadata": {},
   "outputs": [
    {
     "name": "stdout",
     "output_type": "stream",
     "text": [
      "===============================================================================\n",
      "                                     CVXPY                                     \n",
      "                                     v1.2.0                                    \n",
      "===============================================================================\n",
      "(CVXPY) Mar 27 07:01:16 PM: Your problem has 420 variables, 2 constraints, and 0 parameters.\n",
      "(CVXPY) Mar 27 07:01:16 PM: It is compliant with the following grammars: DCP, DQCP\n",
      "(CVXPY) Mar 27 07:01:16 PM: (If you need to solve this problem multiple times, but with different data, consider using parameters.)\n",
      "(CVXPY) Mar 27 07:01:16 PM: CVXPY will first compile your problem; then, it will invoke a numerical solver to obtain a solution.\n",
      "-------------------------------------------------------------------------------\n",
      "                                  Compilation                                  \n",
      "-------------------------------------------------------------------------------\n",
      "(CVXPY) Mar 27 07:01:16 PM: Compiling problem (target solver=MOSEK).\n",
      "(CVXPY) Mar 27 07:01:16 PM: Reduction chain: Dcp2Cone -> CvxAttr2Constr -> ConeMatrixStuffing -> MOSEK\n",
      "(CVXPY) Mar 27 07:01:16 PM: Applying reduction Dcp2Cone\n",
      "(CVXPY) Mar 27 07:01:16 PM: Applying reduction CvxAttr2Constr\n",
      "(CVXPY) Mar 27 07:01:16 PM: Applying reduction ConeMatrixStuffing\n",
      "(CVXPY) Mar 27 07:01:16 PM: Applying reduction MOSEK\n",
      "(CVXPY) Mar 27 07:01:16 PM: Finished problem compilation (took 1.191e-01 seconds).\n",
      "-------------------------------------------------------------------------------\n",
      "                                Numerical solver                               \n",
      "-------------------------------------------------------------------------------\n",
      "(CVXPY) Mar 27 07:01:16 PM: Invoking solver MOSEK  to obtain a solution.\n",
      "\n",
      "\n",
      "(CVXPY) Mar 27 07:01:16 PM: Problem\n",
      "(CVXPY) Mar 27 07:01:16 PM:   Name                   :                 \n",
      "(CVXPY) Mar 27 07:01:16 PM:   Objective sense        : max             \n",
      "(CVXPY) Mar 27 07:01:16 PM:   Type                   : CONIC (conic optimization problem)\n",
      "(CVXPY) Mar 27 07:01:16 PM:   Constraints            : 231             \n",
      "(CVXPY) Mar 27 07:01:16 PM:   Cones                  : 0               \n",
      "(CVXPY) Mar 27 07:01:16 PM:   Scalar variables       : 41              \n",
      "(CVXPY) Mar 27 07:01:16 PM:   Matrix variables       : 1               \n",
      "(CVXPY) Mar 27 07:01:16 PM:   Integer variables      : 0               \n",
      "(CVXPY) Mar 27 07:01:16 PM: \n",
      "(CVXPY) Mar 27 07:01:16 PM: Optimizer started.\n",
      "(CVXPY) Mar 27 07:01:16 PM: Presolve started.\n",
      "(CVXPY) Mar 27 07:01:16 PM: Linear dependency checker started.\n",
      "(CVXPY) Mar 27 07:01:16 PM: Linear dependency checker terminated.\n",
      "(CVXPY) Mar 27 07:01:16 PM: Eliminator started.\n",
      "(CVXPY) Mar 27 07:01:16 PM: Freed constraints in eliminator : 0\n",
      "(CVXPY) Mar 27 07:01:16 PM: Eliminator terminated.\n",
      "(CVXPY) Mar 27 07:01:16 PM: Eliminator - tries                  : 1                 time                   : 0.00            \n",
      "(CVXPY) Mar 27 07:01:16 PM: Lin. dep.  - tries                  : 1                 time                   : 0.01            \n",
      "(CVXPY) Mar 27 07:01:16 PM: Lin. dep.  - number                 : 0               \n",
      "(CVXPY) Mar 27 07:01:16 PM: Presolve terminated. Time: 0.06    \n",
      "(CVXPY) Mar 27 07:01:16 PM: Problem\n",
      "(CVXPY) Mar 27 07:01:16 PM:   Name                   :                 \n",
      "(CVXPY) Mar 27 07:01:16 PM:   Objective sense        : max             \n",
      "(CVXPY) Mar 27 07:01:16 PM:   Type                   : CONIC (conic optimization problem)\n",
      "(CVXPY) Mar 27 07:01:16 PM:   Constraints            : 231             \n",
      "(CVXPY) Mar 27 07:01:16 PM:   Cones                  : 0               \n",
      "(CVXPY) Mar 27 07:01:16 PM:   Scalar variables       : 41              \n",
      "(CVXPY) Mar 27 07:01:16 PM:   Matrix variables       : 1               \n",
      "(CVXPY) Mar 27 07:01:16 PM:   Integer variables      : 0               \n",
      "(CVXPY) Mar 27 07:01:16 PM: \n",
      "(CVXPY) Mar 27 07:01:16 PM: Optimizer  - threads                : 4               \n",
      "(CVXPY) Mar 27 07:01:16 PM: Optimizer  - solved problem         : the primal      \n",
      "(CVXPY) Mar 27 07:01:16 PM: Optimizer  - Constraints            : 231\n",
      "(CVXPY) Mar 27 07:01:16 PM: Optimizer  - Cones                  : 1\n",
      "(CVXPY) Mar 27 07:01:16 PM: Optimizer  - Scalar variables       : 42                conic                  : 2               \n",
      "(CVXPY) Mar 27 07:01:16 PM: Optimizer  - Semi-definite variables: 1                 scalarized             : 820             \n",
      "(CVXPY) Mar 27 07:01:16 PM: Factor     - setup time             : 0.00              dense det. time        : 0.00            \n",
      "(CVXPY) Mar 27 07:01:16 PM: Factor     - ML order time          : 0.00              GP order time          : 0.00            \n",
      "(CVXPY) Mar 27 07:01:16 PM: Factor     - nonzeros before factor : 2.66e+04          after factor           : 2.66e+04        \n",
      "(CVXPY) Mar 27 07:01:16 PM: Factor     - dense dim.             : 0                 flops                  : 4.33e+06        \n",
      "(CVXPY) Mar 27 07:01:16 PM: ITE PFEAS    DFEAS    GFEAS    PRSTATUS   POBJ              DOBJ              MU       TIME  \n",
      "(CVXPY) Mar 27 07:01:16 PM: 0   2.0e+00  1.0e+00  1.0e+00  0.00e+00   0.000000000e+00   0.000000000e+00   1.0e+00  0.08  \n",
      "(CVXPY) Mar 27 07:01:16 PM: 1   6.7e-01  3.3e-01  4.6e-01  -7.93e-01  4.056194835e+00   2.964351254e+00   3.3e-01  0.15  \n",
      "(CVXPY) Mar 27 07:01:16 PM: 2   5.0e-02  2.5e-02  4.0e-02  -3.60e-01  1.507114298e+01   1.272556687e+01   2.5e-02  0.16  \n",
      "(CVXPY) Mar 27 07:01:16 PM: 3   1.4e-02  7.2e-03  7.7e-03  4.73e-01   1.818779477e+01   1.711914136e+01   7.2e-03  0.16  \n",
      "(CVXPY) Mar 27 07:01:16 PM: 4   5.5e-03  2.8e-03  1.8e-03  6.27e-01   1.989190703e+01   1.949778547e+01   2.8e-03  0.17  \n",
      "(CVXPY) Mar 27 07:01:16 PM: 5   3.8e-03  1.9e-03  9.3e-04  3.07e-01   2.006110743e+01   1.984197533e+01   1.9e-03  0.17  \n",
      "(CVXPY) Mar 27 07:01:16 PM: 6   3.2e-03  1.6e-03  9.0e-04  9.60e-03   2.191143322e+01   2.161344496e+01   1.6e-03  0.18  \n",
      "(CVXPY) Mar 27 07:01:16 PM: 7   4.4e-04  2.2e-04  5.6e-05  5.67e-01   2.473195722e+01   2.467084222e+01   2.2e-04  0.19  \n",
      "(CVXPY) Mar 27 07:01:16 PM: 8   1.8e-05  9.2e-06  4.9e-07  9.31e-01   2.522529074e+01   2.522262172e+01   9.2e-06  0.20  \n",
      "(CVXPY) Mar 27 07:01:16 PM: 9   6.7e-07  3.3e-07  3.4e-09  9.95e-01   2.525468675e+01   2.525458759e+01   3.3e-07  0.20  \n",
      "(CVXPY) Mar 27 07:01:16 PM: 10  6.1e-08  3.1e-08  9.5e-11  9.98e-01   2.525613530e+01   2.525612622e+01   3.1e-08  0.21  \n",
      "(CVXPY) Mar 27 07:01:16 PM: 11  8.9e-10  4.5e-10  1.6e-13  9.99e-01   2.525630693e+01   2.525630680e+01   4.4e-10  0.21  \n",
      "(CVXPY) Mar 27 07:01:16 PM: Optimizer terminated. Time: 0.31    \n",
      "(CVXPY) Mar 27 07:01:16 PM: \n",
      "(CVXPY) Mar 27 07:01:16 PM: \n",
      "(CVXPY) Mar 27 07:01:16 PM: Interior-point solution summary\n",
      "(CVXPY) Mar 27 07:01:16 PM:   Problem status  : PRIMAL_AND_DUAL_FEASIBLE\n",
      "(CVXPY) Mar 27 07:01:16 PM:   Solution status : OPTIMAL\n",
      "(CVXPY) Mar 27 07:01:16 PM:   Primal.  obj: 2.5256306930e+01    nrm: 4e+01    Viol.  con: 2e-08    var: 0e+00    barvar: 0e+00  \n",
      "(CVXPY) Mar 27 07:01:16 PM:   Dual.    obj: 2.5256306799e+01    nrm: 3e+01    Viol.  con: 0e+00    var: 2e-15    barvar: 8e-09  \n",
      "-------------------------------------------------------------------------------\n",
      "                                    Summary                                    \n",
      "-------------------------------------------------------------------------------\n",
      "(CVXPY) Mar 27 07:01:16 PM: Problem status: optimal\n",
      "(CVXPY) Mar 27 07:01:16 PM: Optimal value: 2.526e+01\n",
      "(CVXPY) Mar 27 07:01:16 PM: Compilation took 1.191e-01 seconds\n",
      "(CVXPY) Mar 27 07:01:16 PM: Solver (including time spent in interface) took 3.690e-01 seconds\n",
      "Set1 Optimization Finished\n",
      "\n",
      "Mu\n",
      "[0.13266566 0.04564918 0.04564918 0.04564918 0.04564918 0.04564918\n",
      " 0.04564918 0.04564918 0.04564918 0.04564918 0.04564918 0.04564918\n",
      " 0.04564918 0.04564918 0.04564918 0.04564918 0.04564918 0.04564918\n",
      " 0.04564918 0.04564918]\n",
      "M2\n",
      "25.25630384474551\n",
      "===============================================================================\n",
      "                                     CVXPY                                     \n",
      "                                     v1.2.0                                    \n",
      "===============================================================================\n",
      "(CVXPY) Mar 27 07:01:16 PM: Your problem has 20 variables, 1 constraints, and 0 parameters.\n"
     ]
    },
    {
     "name": "stdout",
     "output_type": "stream",
     "text": [
      "(CVXPY) Mar 27 07:01:16 PM: It is compliant with the following grammars: DCP, DQCP\n",
      "(CVXPY) Mar 27 07:01:16 PM: (If you need to solve this problem multiple times, but with different data, consider using parameters.)\n",
      "(CVXPY) Mar 27 07:01:16 PM: CVXPY will first compile your problem; then, it will invoke a numerical solver to obtain a solution.\n",
      "-------------------------------------------------------------------------------\n",
      "                                  Compilation                                  \n",
      "-------------------------------------------------------------------------------\n",
      "(CVXPY) Mar 27 07:01:16 PM: Compiling problem (target solver=MOSEK).\n",
      "(CVXPY) Mar 27 07:01:16 PM: Reduction chain: FlipObjective -> Dcp2Cone -> CvxAttr2Constr -> ConeMatrixStuffing -> MOSEK\n",
      "(CVXPY) Mar 27 07:01:16 PM: Applying reduction FlipObjective\n",
      "(CVXPY) Mar 27 07:01:16 PM: Applying reduction Dcp2Cone\n",
      "(CVXPY) Mar 27 07:01:16 PM: Applying reduction CvxAttr2Constr\n",
      "(CVXPY) Mar 27 07:01:16 PM: Applying reduction ConeMatrixStuffing\n",
      "(CVXPY) Mar 27 07:01:16 PM: Applying reduction MOSEK\n",
      "(CVXPY) Mar 27 07:01:16 PM: Finished problem compilation (took 4.765e-02 seconds).\n",
      "-------------------------------------------------------------------------------\n",
      "                                Numerical solver                               \n",
      "-------------------------------------------------------------------------------\n",
      "(CVXPY) Mar 27 07:01:16 PM: Invoking solver MOSEK  to obtain a solution.\n",
      "\n",
      "\n",
      "(CVXPY) Mar 27 07:01:16 PM: Problem\n",
      "(CVXPY) Mar 27 07:01:16 PM:   Name                   :                 \n",
      "(CVXPY) Mar 27 07:01:16 PM:   Objective sense        : max             \n",
      "(CVXPY) Mar 27 07:01:16 PM:   Type                   : CONIC (conic optimization problem)\n",
      "(CVXPY) Mar 27 07:01:16 PM:   Constraints            : 21              \n",
      "(CVXPY) Mar 27 07:01:16 PM:   Cones                  : 0               \n",
      "(CVXPY) Mar 27 07:01:16 PM:   Scalar variables       : 211             \n",
      "(CVXPY) Mar 27 07:01:16 PM:   Matrix variables       : 1               \n",
      "(CVXPY) Mar 27 07:01:16 PM:   Integer variables      : 0               \n",
      "(CVXPY) Mar 27 07:01:16 PM: \n",
      "(CVXPY) Mar 27 07:01:16 PM: Optimizer started.\n",
      "(CVXPY) Mar 27 07:01:16 PM: Presolve started.\n",
      "(CVXPY) Mar 27 07:01:16 PM: Linear dependency checker started.\n",
      "(CVXPY) Mar 27 07:01:16 PM: Linear dependency checker terminated.\n",
      "(CVXPY) Mar 27 07:01:16 PM: Eliminator started.\n",
      "(CVXPY) Mar 27 07:01:16 PM: Freed constraints in eliminator : 0\n",
      "(CVXPY) Mar 27 07:01:16 PM: Eliminator terminated.\n",
      "(CVXPY) Mar 27 07:01:16 PM: Eliminator started.\n",
      "(CVXPY) Mar 27 07:01:16 PM: Freed constraints in eliminator : 0\n",
      "(CVXPY) Mar 27 07:01:16 PM: Eliminator terminated.\n",
      "(CVXPY) Mar 27 07:01:16 PM: Eliminator - tries                  : 2                 time                   : 0.00            \n",
      "(CVXPY) Mar 27 07:01:16 PM: Lin. dep.  - tries                  : 1                 time                   : 0.00            \n",
      "(CVXPY) Mar 27 07:01:16 PM: Lin. dep.  - number                 : 0               \n",
      "(CVXPY) Mar 27 07:01:16 PM: Presolve terminated. Time: 0.01    \n",
      "(CVXPY) Mar 27 07:01:16 PM: Problem\n",
      "(CVXPY) Mar 27 07:01:16 PM:   Name                   :                 \n",
      "(CVXPY) Mar 27 07:01:16 PM:   Objective sense        : max             \n",
      "(CVXPY) Mar 27 07:01:16 PM:   Type                   : CONIC (conic optimization problem)\n",
      "(CVXPY) Mar 27 07:01:16 PM:   Constraints            : 21              \n",
      "(CVXPY) Mar 27 07:01:16 PM:   Cones                  : 0               \n",
      "(CVXPY) Mar 27 07:01:16 PM:   Scalar variables       : 211             \n",
      "(CVXPY) Mar 27 07:01:16 PM:   Matrix variables       : 1               \n",
      "(CVXPY) Mar 27 07:01:16 PM:   Integer variables      : 0               \n",
      "(CVXPY) Mar 27 07:01:16 PM: \n",
      "(CVXPY) Mar 27 07:01:16 PM: Optimizer  - threads                : 4               \n",
      "(CVXPY) Mar 27 07:01:16 PM: Optimizer  - solved problem         : the primal      \n",
      "(CVXPY) Mar 27 07:01:16 PM: Optimizer  - Constraints            : 21\n",
      "(CVXPY) Mar 27 07:01:16 PM: Optimizer  - Cones                  : 1\n",
      "(CVXPY) Mar 27 07:01:16 PM: Optimizer  - Scalar variables       : 22                conic                  : 2               \n",
      "(CVXPY) Mar 27 07:01:16 PM: Optimizer  - Semi-definite variables: 1                 scalarized             : 210             \n",
      "(CVXPY) Mar 27 07:01:16 PM: Factor     - setup time             : 0.00              dense det. time        : 0.00            \n",
      "(CVXPY) Mar 27 07:01:16 PM: Factor     - ML order time          : 0.00              GP order time          : 0.00            \n",
      "(CVXPY) Mar 27 07:01:16 PM: Factor     - nonzeros before factor : 231               after factor           : 231             \n",
      "(CVXPY) Mar 27 07:01:16 PM: Factor     - dense dim.             : 0                 flops                  : 1.36e+04        \n",
      "(CVXPY) Mar 27 07:01:16 PM: ITE PFEAS    DFEAS    GFEAS    PRSTATUS   POBJ              DOBJ              MU       TIME  \n",
      "(CVXPY) Mar 27 07:01:16 PM: 0   1.9e+01  1.0e+00  1.0e+00  0.00e+00   0.000000000e+00   0.000000000e+00   1.0e+00  0.02  \n",
      "(CVXPY) Mar 27 07:01:16 PM: 1   1.0e+01  5.3e-01  8.5e-02  2.09e+00   -1.298488493e-01  1.189282421e-01   5.3e-01  0.08  \n",
      "(CVXPY) Mar 27 07:01:16 PM: 2   5.7e+00  3.0e-01  4.4e-02  5.81e+00   -6.478636885e-02  -4.076195423e-02  3.0e-01  0.08  \n",
      "(CVXPY) Mar 27 07:01:16 PM: 3   3.5e+00  1.9e-01  2.3e-02  1.48e+00   -1.853138543e-02  -5.484428527e-03  1.9e-01  0.09  \n",
      "(CVXPY) Mar 27 07:01:16 PM: 4   9.7e-01  5.1e-02  3.0e-03  1.34e+00   -2.059937548e-02  -1.687898247e-02  5.1e-02  0.09  \n",
      "(CVXPY) Mar 27 07:01:16 PM: 5   2.6e-01  1.4e-02  4.2e-04  1.05e+00   -1.936420074e-02  -1.840225261e-02  1.4e-02  0.09  \n",
      "(CVXPY) Mar 27 07:01:16 PM: 6   1.0e-01  5.5e-03  1.0e-04  9.09e-01   -1.988520527e-02  -1.943173545e-02  5.5e-03  0.09  \n",
      "(CVXPY) Mar 27 07:01:16 PM: 7   9.9e-03  5.2e-04  1.6e-06  9.97e-01   -1.883718839e-02  -1.877136649e-02  5.2e-04  0.09  \n",
      "(CVXPY) Mar 27 07:01:16 PM: 8   3.2e-04  1.7e-05  9.4e-09  9.89e-01   -1.879162660e-02  -1.878950094e-02  1.7e-05  0.10  \n",
      "(CVXPY) Mar 27 07:01:16 PM: 9   2.4e-07  1.3e-08  1.9e-13  1.00e+00   -1.878914560e-02  -1.878914400e-02  1.3e-08  0.10  \n",
      "(CVXPY) Mar 27 07:01:16 PM: 10  5.1e-09  3.1e-09  5.8e-16  1.00e+00   -1.878914405e-02  -1.878914402e-02  2.7e-10  0.10  \n",
      "(CVXPY) Mar 27 07:01:16 PM: Optimizer terminated. Time: 0.13    \n",
      "(CVXPY) Mar 27 07:01:16 PM: \n",
      "(CVXPY) Mar 27 07:01:16 PM: \n",
      "(CVXPY) Mar 27 07:01:16 PM: Interior-point solution summary\n",
      "(CVXPY) Mar 27 07:01:16 PM:   Problem status  : PRIMAL_AND_DUAL_FEASIBLE\n",
      "(CVXPY) Mar 27 07:01:16 PM:   Solution status : OPTIMAL\n",
      "(CVXPY) Mar 27 07:01:16 PM:   Primal.  obj: -1.8789144053e-02   nrm: 1e+00    Viol.  con: 7e-10    var: 1e-10    barvar: 0e+00  \n",
      "(CVXPY) Mar 27 07:01:16 PM:   Dual.    obj: -1.8789144019e-02   nrm: 1e+00    Viol.  con: 0e+00    var: 6e-17    barvar: 4e-10  \n",
      "-------------------------------------------------------------------------------\n",
      "                                    Summary                                    \n",
      "-------------------------------------------------------------------------------\n",
      "(CVXPY) Mar 27 07:01:16 PM: Problem status: optimal\n",
      "(CVXPY) Mar 27 07:01:16 PM: Optimal value: 1.879e-02\n",
      "(CVXPY) Mar 27 07:01:16 PM: Compilation took 4.765e-02 seconds\n",
      "(CVXPY) Mar 27 07:01:17 PM: Solver (including time spent in interface) took 2.170e-01 seconds\n",
      "Set2 Optimization Finished\n",
      "\n",
      "Mu_hao\n",
      "[0.40502601 0.03131442 0.03131442 0.03131442 0.03131442 0.03131442\n",
      " 0.03131442 0.03131442 0.03131442 0.03131442 0.03131442 0.03131442\n",
      " 0.03131442 0.03131442 0.03131442 0.03131442 0.03131442 0.03131442\n",
      " 0.03131442 0.03131442]\n",
      "Cmin\n",
      "0.018789144030332987\n",
      "=====Repetition for total time 50=====\n",
      "=====Repetition for total time 100=====\n",
      "=====Repetition for total time 150=====\n",
      "=====Repetition for total time 200=====\n",
      "=====Repetition for total time 250=====\n",
      "=====Repetition for total time 300=====\n",
      "=====Repetition for total time 350=====\n",
      "=====Repetition for total time 400=====\n",
      "=====Repetition for total time 450=====\n",
      "=====Repetition for total time 500=====\n",
      "=====Repetition for total time 550=====\n",
      "=====Repetition for total time 600=====\n",
      "=====Repetition for total time 650=====\n",
      "=====Repetition for total time 700=====\n",
      "=====Repetition for total time 750=====\n"
     ]
    },
    {
     "name": "stdout",
     "output_type": "stream",
     "text": [
      "=====Repetition for total time 800=====\n",
      "=====Repetition for total time 850=====\n",
      "=====Repetition for total time 900=====\n",
      "=====Repetition for total time 950=====\n",
      "=====Repetition for total time 1000=====\n",
      "=====Repetition for total time 1050=====\n",
      "=====Repetition for total time 1100=====\n",
      "=====Repetition for total time 1150=====\n",
      "=====Repetition for total time 1200=====\n",
      "=====Repetition for total time 1250=====\n",
      "=====Repetition for total time 1300=====\n",
      "=====Repetition for total time 1350=====\n",
      "=====Repetition for total time 1400=====\n",
      "=====Repetition for total time 1450=====\n",
      "=====Repetition for total time 1500=====\n",
      "=====Repetition for total time 1550=====\n",
      "=====Repetition for total time 1600=====\n",
      "=====Repetition for total time 1650=====\n",
      "=====Repetition for total time 1700=====\n",
      "=====Repetition for total time 1750=====\n",
      "=====Repetition for total time 1800=====\n",
      "=====Repetition for total time 1850=====\n",
      "=====Repetition for total time 1900=====\n",
      "=====Repetition for total time 1950=====\n",
      "=====Repetition for total time 2000=====\n",
      "=====Repetition for total time 2050=====\n",
      "=====Repetition for total time 2100=====\n",
      "=====Repetition for total time 2150=====\n",
      "=====Repetition for total time 2200=====\n",
      "=====Repetition for total time 2250=====\n",
      "=====Repetition for total time 2300=====\n",
      "=====Repetition for total time 2350=====\n",
      "=====Repetition for total time 2400=====\n",
      "=====Repetition for total time 2450=====\n",
      "=====Repetition for total time 2500=====\n",
      "=====Repetition for total time 2550=====\n",
      "=====Repetition for total time 2600=====\n",
      "=====Repetition for total time 2650=====\n",
      "=====Repetition for total time 2700=====\n",
      "=====Repetition for total time 2750=====\n",
      "=====Repetition for total time 2800=====\n",
      "=====Repetition for total time 2850=====\n",
      "=====Repetition for total time 2900=====\n",
      "=====Repetition for total time 2950=====\n",
      "=====Repetition for total time 3000=====\n",
      "=====Repetition for total time 3050=====\n",
      "=====Repetition for total time 3100=====\n",
      "=====Repetition for total time 3150=====\n",
      "=====Repetition for total time 3200=====\n",
      "=====Repetition for total time 3250=====\n",
      "=====Repetition for total time 3300=====\n",
      "=====Repetition for total time 3350=====\n",
      "=====Repetition for total time 3400=====\n",
      "=====Repetition for total time 3450=====\n",
      "=====Repetition for total time 3500=====\n",
      "=====Repetition for total time 3550=====\n",
      "=====Repetition for total time 3600=====\n",
      "=====Repetition for total time 3650=====\n",
      "=====Repetition for total time 3700=====\n",
      "=====Repetition for total time 3750=====\n",
      "=====Repetition for total time 3800=====\n",
      "=====Repetition for total time 3850=====\n",
      "=====Repetition for total time 3900=====\n",
      "=====Repetition for total time 3950=====\n",
      "=====Repetition for total time 4000=====\n",
      "=====Repetition for total time 4050=====\n",
      "=====Repetition for total time 4100=====\n",
      "=====Repetition for total time 4150=====\n",
      "=====Repetition for total time 4200=====\n",
      "=====Repetition for total time 4250=====\n",
      "=====Repetition for total time 4300=====\n",
      "=====Repetition for total time 4350=====\n",
      "=====Repetition for total time 4400=====\n",
      "=====Repetition for total time 4450=====\n",
      "=====Repetition for total time 4500=====\n",
      "=====Repetition for total time 4550=====\n",
      "=====Repetition for total time 4600=====\n",
      "=====Repetition for total time 4650=====\n",
      "=====Repetition for total time 4700=====\n",
      "=====Repetition for total time 4750=====\n",
      "=====Repetition for total time 4800=====\n",
      "=====Repetition for total time 4850=====\n",
      "=====Repetition for total time 4900=====\n",
      "=====Repetition for total time 4950=====\n",
      "=====Repetition for total time 5000=====\n"
     ]
    }
   ],
   "source": [
    "%run -i 220327_InverseMax_lassochange.py --d 20 --inc 50 --sigma=1 --howlong 100 --swap True"
   ]
  },
  {
   "cell_type": "code",
   "execution_count": 2,
   "id": "632d6002",
   "metadata": {},
   "outputs": [
    {
     "data": {
      "text/plain": [
       "array([ 98.89878819,  41.87089691, 160.59770271, 220.19829203,\n",
       "       287.82587658, 313.55666004, 313.25731321, 304.02643975,\n",
       "       313.17244615, 310.27272855, 309.63054228, 311.91426816,\n",
       "       310.505811  , 311.33806027, 309.39061386, 309.56298536,\n",
       "       309.53425003, 310.04741647, 309.39785104, 311.82820279,\n",
       "       311.35221317, 308.77476933, 311.36338915, 310.16180685,\n",
       "       310.42570389, 307.25807782, 310.71091811, 308.22335468,\n",
       "       308.33505404, 306.89073074, 309.57306398, 310.30426007,\n",
       "       308.89240298, 310.40290547, 307.56443932, 307.37797125,\n",
       "       311.1790021 , 308.83687846, 312.88316489, 309.8873767 ,\n",
       "       307.40687912, 308.65606235, 308.16295417, 310.24564287,\n",
       "       308.23645235, 309.922919  , 308.17339712, 310.69728843,\n",
       "       312.50180853, 308.15742278, 310.14219724, 308.79012833,\n",
       "       308.96874427, 310.29417326, 309.76459917, 308.69690945,\n",
       "       308.70772969, 309.10121029, 310.06263207, 308.59043106,\n",
       "       308.97203432, 308.12781937, 309.40057461, 308.57859496,\n",
       "       307.87638088, 308.98321266, 309.5156773 , 308.18737238,\n",
       "       309.27360918, 307.9212646 , 308.44870645, 309.61030093,\n",
       "       308.01372718, 309.67920294, 309.32679215, 309.2284055 ,\n",
       "       309.41226105, 308.99595518, 309.40716329, 308.5214012 ,\n",
       "       308.8922279 , 309.00185836, 308.36617356, 309.86811234,\n",
       "       308.76322087, 307.1179108 , 307.98860298, 308.55340583,\n",
       "       309.3030085 , 307.26211122, 308.59449631, 309.69326326,\n",
       "       309.51954252, 309.24161154, 308.44307513, 308.65992068,\n",
       "       307.29131732, 309.56066544, 308.46668301, 308.55198924])"
      ]
     },
     "execution_count": 2,
     "metadata": {},
     "output_type": "execute_result"
    }
   ],
   "source": [
    "errors"
   ]
  },
  {
   "cell_type": "code",
   "execution_count": 3,
   "id": "e9faa1f7",
   "metadata": {},
   "outputs": [
    {
     "data": {
      "text/plain": [
       "array([137.47727085, 137.47727085, 137.42083439, 136.98266501,\n",
       "       136.15830982, 133.84127985, 127.40528713, 120.2335852 ,\n",
       "       112.44223745, 109.54165376, 105.04073937, 100.43239289,\n",
       "        97.69647558,  92.26300605,  88.57486006,  87.10042256,\n",
       "        86.39622647,  84.1504617 ,  82.34663144,  80.19338288,\n",
       "        76.43666044,  76.84763539,  76.02558824,  74.11438957,\n",
       "        70.46081056,  70.47149998,  70.51731022,  68.36934956,\n",
       "        68.14955651,  66.75478014,  65.03600623,  65.88280714,\n",
       "        63.83074236,  63.20204878,  62.28853312,  62.83355933,\n",
       "        61.73176537,  60.89044521,  59.28112759,  58.90084419,\n",
       "        58.76117562,  58.07136747,  57.11301158,  57.55415092,\n",
       "        56.57516537,  56.01020123,  56.37689308,  54.8310318 ,\n",
       "        55.46060876,  54.90412421,  54.66757943,  53.98634324,\n",
       "        53.30760627,  53.01560162,  52.67787489,  52.05797814,\n",
       "        52.07194999,  52.11950167,  51.15001927,  51.217967  ,\n",
       "        50.90685585,  50.51700649,  50.3976696 ,  49.82746368,\n",
       "        49.59168443,  49.49710083,  49.63272408,  49.08877551,\n",
       "        48.49008863,  48.84205667,  48.44256004,  48.14789389,\n",
       "        48.4662432 ,  47.52019707,  47.68051387,  47.24742334,\n",
       "        47.29414154,  47.01372243,  47.02463713,  46.36154226,\n",
       "        46.4531074 ,  45.98074575,  46.49700568,  46.04064315,\n",
       "        45.81611706,  45.28465051,  45.77160868,  45.58800326,\n",
       "        45.40865069,  45.19215647,  45.18093619,  44.67212913,\n",
       "        44.64471198,  44.35089571,  44.12504835,  44.48565975,\n",
       "        44.13612637,  43.75370021,  43.51912495,  43.43721389])"
      ]
     },
     "execution_count": 3,
     "metadata": {},
     "output_type": "execute_result"
    }
   ],
   "source": [
    "errors_hao"
   ]
  },
  {
   "cell_type": "code",
   "execution_count": 4,
   "id": "615d1392",
   "metadata": {},
   "outputs": [
    {
     "data": {
      "text/plain": [
       "array([17.88854382,  0.        ,  0.        ,  0.        ,  0.        ,\n",
       "        0.        ,  0.        ,  0.        ,  0.        ,  0.        ,\n",
       "        0.        ,  0.        ,  0.        ,  0.        ,  0.        ,\n",
       "        0.        ,  0.        ,  0.        ,  0.        ,  0.        ,\n",
       "        0.        ,  0.        ,  0.        ,  0.        ,  0.        ,\n",
       "        0.        ,  0.        ,  0.        ,  0.        ,  0.        ,\n",
       "        0.        ,  0.        ,  0.        ,  0.        ,  0.        ,\n",
       "        0.        ,  0.        ,  0.        ,  0.        ,  0.        ,\n",
       "        0.        ,  0.        ,  0.        ,  0.        ,  0.        ,\n",
       "        0.        ,  0.        ,  0.        ,  0.        ,  0.        ,\n",
       "        0.        ,  0.        ,  0.        ,  0.        ,  0.        ,\n",
       "        0.        ,  0.        ,  0.        ,  0.        ,  0.        ,\n",
       "        0.        ,  0.        ,  0.        ,  0.        ,  0.        ,\n",
       "        0.        ,  0.        ,  0.        ,  0.        ,  0.        ,\n",
       "        0.        ,  0.        ,  0.        ,  0.        ,  0.        ,\n",
       "        0.        ,  0.        ,  0.        ,  0.        ,  0.        ,\n",
       "        0.        ,  0.        ,  0.        ,  0.        ,  0.        ,\n",
       "        0.        ,  0.        ,  0.        ,  0.        ,  0.        ,\n",
       "        0.        ,  0.        ,  0.        ,  0.        ,  0.        ,\n",
       "        0.        ,  0.        ,  0.        ,  0.        ,  0.        ])"
      ]
     },
     "execution_count": 4,
     "metadata": {},
     "output_type": "execute_result"
    }
   ],
   "source": [
    "choice_errors"
   ]
  },
  {
   "cell_type": "code",
   "execution_count": 58,
   "id": "25582551",
   "metadata": {},
   "outputs": [
    {
     "data": {
      "text/plain": [
       "array([33.54101966, 33.54101966, 33.54101966, 33.54101966, 33.54101966,\n",
       "       33.54101966, 33.54101966, 33.54101966, 33.54101966, 33.54101966,\n",
       "       33.54101966, 33.54101966, 33.54101966, 32.42298567, 33.54101966,\n",
       "       31.30495168, 26.83281573, 23.47871376, 31.30495168, 27.95084972])"
      ]
     },
     "execution_count": 58,
     "metadata": {},
     "output_type": "execute_result"
    }
   ],
   "source": [
    "choice_errors_h"
   ]
  },
  {
   "cell_type": "code",
   "execution_count": 5,
   "id": "eb9a250a",
   "metadata": {},
   "outputs": [
    {
     "data": {
      "text/plain": [
       "array([-1.        ,  0.        ,  0.        ,  0.        ,  0.        ,\n",
       "        0.        ,  0.        ,  0.        ,  0.        ,  0.        ,\n",
       "        0.        ,  0.        ,  0.        ,  0.        ,  0.        ,\n",
       "        0.        ,  0.        ,  0.        ,  0.        ,  4.47213595])"
      ]
     },
     "execution_count": 5,
     "metadata": {},
     "output_type": "execute_result"
    }
   ],
   "source": [
    "theta"
   ]
  },
  {
   "cell_type": "code",
   "execution_count": 11,
   "id": "708e9177",
   "metadata": {},
   "outputs": [
    {
     "data": {
      "image/png": "[encoded data removed]",
      "text/plain": [
       "<Figure size 432x288 with 1 Axes>"
      ]
     },
     "metadata": {
      "needs_background": "light"
     },
     "output_type": "display_data"
    }
   ],
   "source": [
    "import matplotlib.pyplot as plt\n",
    "timeline=np.linspace(args.inc,args.inc*args.howlong,args.howlong)\n",
    "plt.xlabel('Time')\n",
    "plt.ylabel('Action l2 errors')\n",
    "plt.title('Sigma 1 swap - Action l2 error')\n",
    "plt.plot(timeline,choice_errors, label='Exp2')\n",
    "plt.plot(timeline,choice_errors_h, label='LASSO')\n",
    "plt.legend()\n",
    "plt.show()"
   ]
  },
  {
   "cell_type": "code",
   "execution_count": 9,
   "id": "c0abab8d",
   "metadata": {},
   "outputs": [
    {
     "data": {
      "image/png": "[encoded data removed]",
      "text/plain": [
       "<Figure size 432x288 with 1 Axes>"
      ]
     },
     "metadata": {
      "needs_background": "light"
     },
     "output_type": "display_data"
    }
   ],
   "source": [
    "import matplotlib.pyplot as plt\n",
    "timeline=np.linspace(args.inc,args.inc*args.howlong,args.howlong)\n",
    "plt.xlabel('Time')\n",
    "plt.ylabel('Theta l2 errors')\n",
    "plt.title('Sigma 1 swap - Theta l2 error')\n",
    "plt.plot(timeline,errors, label='Exp2')\n",
    "plt.plot(timeline,errors_hao, label='LASSO')\n",
    "plt.legend()\n",
    "plt.show()"
   ]
  },
  {
   "cell_type": "code",
   "execution_count": null,
   "id": "dc17a287",
   "metadata": {},
   "outputs": [],
   "source": []
  }
 ],
 "metadata": {
  "kernelspec": {
   "display_name": "Python 3 (ipykernel)",
   "language": "python",
   "name": "python3"
  },
  "language_info": {
   "codemirror_mode": {
    "name": "ipython",
    "version": 3
   },
   "file_extension": ".py",
   "mimetype": "text/x-python",
   "name": "python",
   "nbconvert_exporter": "python",
   "pygments_lexer": "ipython3",
   "version": "3.9.7"
  }
 },
 "nbformat": 4,
 "nbformat_minor": 5
}
